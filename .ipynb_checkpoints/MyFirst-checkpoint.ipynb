{
 "cells": [
  {
   "cell_type": "markdown",
   "metadata": {},
   "source": [
    "This is my first JupyterLab Notebook"
   ]
  },
  {
   "cell_type": "code",
   "execution_count": 17,
   "metadata": {},
   "outputs": [
    {
     "ename": "ImportError",
     "evalue": "No module named 'bs4'",
     "output_type": "error",
     "traceback": [
      "\u001b[0;31m---------------------------------------------------------------------------\u001b[0m",
      "\u001b[0;31mImportError\u001b[0m                               Traceback (most recent call last)",
      "\u001b[0;32m<ipython-input-17-4c6f622db24c>\u001b[0m in \u001b[0;36m<module>\u001b[0;34m\u001b[0m\n\u001b[1;32m      2\u001b[0m \u001b[0;32mfrom\u001b[0m \u001b[0mgoogle\u001b[0m\u001b[0;34m.\u001b[0m\u001b[0mcloud\u001b[0m \u001b[0;32mimport\u001b[0m \u001b[0mbigquery\u001b[0m\u001b[0;34m\u001b[0m\u001b[0m\n\u001b[1;32m      3\u001b[0m \u001b[0;32mfrom\u001b[0m \u001b[0mgoogle\u001b[0m\u001b[0;34m.\u001b[0m\u001b[0moauth2\u001b[0m \u001b[0;32mimport\u001b[0m \u001b[0mservice_account\u001b[0m\u001b[0;34m\u001b[0m\u001b[0m\n\u001b[0;32m----> 4\u001b[0;31m \u001b[0;32mfrom\u001b[0m \u001b[0mbs4\u001b[0m \u001b[0;32mimport\u001b[0m \u001b[0mBeautifulSoup\u001b[0m\u001b[0;34m\u001b[0m\u001b[0m\n\u001b[0m\u001b[1;32m      5\u001b[0m \u001b[0;32mfrom\u001b[0m \u001b[0mdecimal\u001b[0m \u001b[0;32mimport\u001b[0m \u001b[0mDecimal\u001b[0m\u001b[0;34m\u001b[0m\u001b[0m\n\u001b[1;32m      6\u001b[0m \u001b[0;32mimport\u001b[0m \u001b[0mrequests\u001b[0m\u001b[0;34m\u001b[0m\u001b[0m\n",
      "\u001b[0;31mImportError\u001b[0m: No module named 'bs4'"
     ]
    }
   ],
   "source": [
    "#load libraries\n",
    "from google.cloud import bigquery\n",
    "from google.oauth2 import service_account\n",
    "from bs4 import BeautifulSoup\n",
    "from decimal import Decimal\n",
    "import requests\n",
    "import re\n",
    "import pandas as pd\n",
    "import string\n",
    "import sys\n",
    "\n",
    "import datetime\n",
    "from selenium import webdriver\n",
    "from selenium.webdriver.support.ui import Select"
   ]
  },
  {
   "cell_type": "code",
   "execution_count": 11,
   "metadata": {},
   "outputs": [
    {
     "name": "stdout",
     "output_type": "stream",
     "text": [
      "X\n",
      "sunny-influence-196423\n",
      "[SchemaField('timestamp', 'TIMESTAMP', 'NULLABLE', None, ()), SchemaField('division', 'STRING', 'NULLABLE', None, ()), SchemaField('category', 'STRING', 'NULLABLE', None, ()), SchemaField('region', 'STRING', 'NULLABLE', None, ()), SchemaField('season', 'STRING', 'NULLABLE', None, ()), SchemaField('rank', 'INTEGER', 'NULLABLE', None, ()), SchemaField('team', 'STRING', 'NULLABLE', None, ()), SchemaField('gp', 'INTEGER', 'NULLABLE', None, ()), SchemaField('wlt', 'STRING', 'NULLABLE', None, ()), SchemaField('pts', 'INTEGER', 'NULLABLE', None, ()), SchemaField('winpct', 'FLOAT', 'NULLABLE', None, ()), SchemaField('gfa', 'FLOAT', 'NULLABLE', None, ()), SchemaField('gaa', 'FLOAT', 'NULLABLE', None, ()), SchemaField('home', 'STRING', 'NULLABLE', None, ()), SchemaField('away', 'STRING', 'NULLABLE', None, ()), SchemaField('p10', 'STRING', 'NULLABLE', None, ()), SchemaField('streak', 'STRING', 'NULLABLE', None, ()), SchemaField('pim', 'INTEGER', 'NULLABLE', None, ())]\n",
      "[[['2019-10-30 12:00:00', 'Minor Atom', 'A', 'East', '19-20', 1, 'Don Mills Mustangs ', 8, '8-0-0', 16, 1.0, 7.0, 1.5, '5-0-0', '3-0-0', '8-0-0', 'Won 8', 0]]]\n"
     ]
    },
    {
     "ename": "NameError",
     "evalue": "name 'datetime' is not defined",
     "output_type": "error",
     "traceback": [
      "\u001b[0;31m---------------------------------------------------------------------------\u001b[0m",
      "\u001b[0;31mNameError\u001b[0m                                 Traceback (most recent call last)",
      "\u001b[0;32m<ipython-input-11-d9d7595b623d>\u001b[0m in \u001b[0;36m<module>\u001b[0;34m\u001b[0m\n\u001b[1;32m     30\u001b[0m \u001b[0;34m\u001b[0m\u001b[0m\n\u001b[1;32m     31\u001b[0m \u001b[0;34m\u001b[0m\u001b[0m\n\u001b[0;32m---> 32\u001b[0;31m \u001b[0mdateTimeObj\u001b[0m \u001b[0;34m=\u001b[0m \u001b[0mdatetime\u001b[0m\u001b[0;34m.\u001b[0m\u001b[0mdatetime\u001b[0m\u001b[0;34m.\u001b[0m\u001b[0mnow\u001b[0m\u001b[0;34m(\u001b[0m\u001b[0;34m)\u001b[0m\u001b[0;34m\u001b[0m\u001b[0m\n\u001b[0m\u001b[1;32m     33\u001b[0m \u001b[0mtimestring\u001b[0m\u001b[0;34m=\u001b[0m\u001b[0mdateTimeObj\u001b[0m\u001b[0;34m.\u001b[0m\u001b[0mstrftime\u001b[0m\u001b[0;34m(\u001b[0m\u001b[0;34m\"%Y-%m-%d %H:%M:%S\"\u001b[0m\u001b[0;34m)\u001b[0m\u001b[0;34m\u001b[0m\u001b[0m\n\u001b[1;32m     34\u001b[0m \u001b[0mprint\u001b[0m\u001b[0;34m(\u001b[0m\u001b[0mtimestring\u001b[0m\u001b[0;34m)\u001b[0m\u001b[0;34m;\u001b[0m\u001b[0;34m\u001b[0m\u001b[0m\n",
      "\u001b[0;31mNameError\u001b[0m: name 'datetime' is not defined"
     ]
    }
   ],
   "source": [
    "\n",
    "key_path='/home/wallacel_wong/My First Project-7dc573b964c1.json'\n",
    "print(\"X\")\n",
    "credentials = service_account.Credentials.from_service_account_file(\n",
    "    key_path,\n",
    "    scopes=[\"https://www.googleapis.com/auth/cloud-platform\"],\n",
    ")\n",
    "\n",
    "bigquery_client=bigquery.Client(credentials=credentials,\n",
    "                                project='sunny-influence-196423')\n",
    "\n",
    "dataset_ref = bigquery_client.dataset('gthl_standings')\n",
    "table_ref = dataset_ref.table('standings_v2')\n",
    "table = bigquery_client.get_table(table_ref)  # API call\\\n",
    "print(credentials.project_id)\n",
    "print(table.schema)\n",
    "#test_rows = [[10],[20],[30]]\n",
    "test_rows=[['2019-10-30 12:00:00', 'Minor Atom', 'A', 'East', '19-20', 1, 'Don Mills Mustangs ', 8, '8-0-0', 16, 1.0, 7.0, 1.5, '5-0-0', '3-0-0', '8-0-0', 'Won 8', 0]]\n",
    "row=[]\n",
    "row.append(test_rows)\n",
    "print(row)\n",
    "#print(\"XX\")\n",
    "#print(type(test_rows[0]))\n",
    "#test_rows =[('','Peewee','A','East','19-20','1','Leaside',1,'0-0-0',1,'100',1,1,1,1,0,1,0)]#errors = bigquery_client.insert_rows(table, test_rows)  # API request\n",
    "\n",
    "#print (errors)\n",
    "\n",
    "# uncomment to debug table inserts\n",
    "errors = bigquery_client.insert_rows(table, test_rows)  # API Call to insert           \n",
    "#sys.exit(1)\n",
    "\n",
    "\n",
    "dateTimeObj = datetime.datetime.now()\n",
    "timestring=dateTimeObj.strftime(\"%Y-%m-%d %H:%M:%S\")\n",
    "print(timestring);\n",
    "print(dateTimeObj)\n",
    "\n",
    "driver = webdriver.PhantomJS()\n",
    "\n",
    "menu_list = [['Minor Atom','A','East','19-20'],['Atom','A','East','19-20'],['Minor Peewee','A','East','19-20'],['Peewee','A','East','19-20'], \n",
    "             ['Minor Bantam','A','East','19-20'],['Bantam','A','East','19-20'],['Minor Midget','A','East','19-20'],['Midget Junior','A','East','19-20'],\n",
    "             ['Midget','A','East','19-20'],\n",
    "             ['Minor Atom','A','West','19-20'],['Atom','A','West','19-20'],['Minor Peewee','A','West','19-20'],['Peewee','A','West','19-20'], \n",
    "             ['Minor Bantam','A','West','19-20'],['Bantam','A','West','19-20'],['Minor Midget','A','West','19-20'],['Midget Junior','A','West','19-20'],\n",
    "            ]\n",
    "             \n",
    "             #,['U21','A','','19-20']]\n",
    "                                                                          \n",
    "driver.get('https://www.gthlcanada.com/leaguestandings/')\n",
    "driver.switch_to.frame(\"iframed-stats\")\n",
    "\n",
    "columns = ['Timestamp','Division','Category','Region','Season','Rank','Team','GP','W-L-T','PTS','WIN%','GFA','GAA','Home','Away','P10','Streak','PIM']\n",
    "gthlstandings_df=pd.DataFrame(columns=columns)\n",
    "\n",
    "#sys.exit(0)\n",
    "\n",
    "# assign parameter inputs\n",
    "for div_item in menu_list:\n",
    "        division=div_item[0]\n",
    "        category=div_item[1]\n",
    "        region=div_item[2]\n",
    "        season=div_item[3]\n",
    "        \n",
    "        print (division+\" \"+category+\" \"+region+\" \"+season)\n",
    "\n",
    "        dd_division = Select(driver.find_element_by_id('ddlDiv'))\n",
    "        dd_division.select_by_visible_text(division)\n",
    "        dd_category = Select(driver.find_element_by_id('ddlCat'))\n",
    "        dd_category.select_by_visible_text(category)\n",
    "        dd_season = Select(driver.find_element_by_id('ddlSeason'))\n",
    "        dd_season.select_by_visible_text(season)\n",
    "        dd_category = Select(driver.find_element_by_id('ddlRegion'))\n",
    "        dd_category.select_by_visible_text(region)\n",
    "\n",
    "        html = driver.page_source\n",
    "\n",
    "        html_lines=html.splitlines()\n",
    "        \n",
    "        #line_num=0\n",
    "        #for x in html_lines:\n",
    "        #    line_num=line_num+1\n",
    "        #    if \"st_wrapper\" in x:\n",
    "        #            print (\"found \")\n",
    "        #            break\n",
    "        #    print(str(line_num)+\"*\" + x)\n",
    "\n",
    "\n",
    "        # delete uncessary page code\n",
    "        #del html_lines[0:yy]\n",
    "        #print(len(html_lines))\n",
    "        #for x in html_lines:\n",
    "        #    print(x)\n",
    "\n",
    "        #print(html)\n",
    "\n",
    "        #sys.exit()\n",
    "\n",
    "\n",
    "        # Read file\n",
    "        #file1=\"/home/jupyter/tutorials/bigquery/test\"\n",
    "        #page=open(file1)\n",
    "        #content=BeautifulSoup(page.read())\n",
    "        content=BeautifulSoup(html)\n",
    "\n",
    "        #print(content)\n",
    "        #sys.exit(0)\n",
    "\n",
    "        # Create the data frame\n",
    "        metrics = [['Leaside flames',6,'6-0-0-',12,1.000,4.17,1.50,'3-0-0','3-0-0','6-0-0','Won 6',0],['Leaside flames',6,'6-0-0-',12,1.000,4.17,1.50,'3-0-0','3-0-0','6-0-0','Won 6',0]]\n",
    "        #print(type(metrics))\n",
    "        #columns = ['Team','GP','W-L-T','PTS','WIN%','GFA','GAA','Home','Away','P10','Streak','PIM']\n",
    "        #gthlstandings_df=pd.DataFrame(columns=columns)\n",
    "\n",
    "        #print(gthlstandings_df)\n",
    "\n",
    "        #print(content)\n",
    "\n",
    "       \n",
    "        standings=content.find_all('tr',{'class':'st_RepeaterBody'})\n",
    "        #print(standings)\n",
    "        rank=0\n",
    "        for standing in standings:\n",
    "            team=standing.find_all('td',{'class':'tblTeam'})\n",
    "            #team1=team.find_all('td')\n",
    "            #print(type(team))\n",
    "            #print(team)\n",
    "            #print(team[0]['data'])\n",
    "            list=[]\n",
    "            #list.append(dateTimeObj)\n",
    "            #list.append('')\n",
    "            #list.append(None)\n",
    "            list.append(timestring)\n",
    "            list.append(division)\n",
    "            list.append(category)\n",
    "            list.append(region)\n",
    "            list.append(season)\n",
    "            rank=rank+1\n",
    "            list.append(rank)\n",
    "            list.append(team[0]['data'])\n",
    "            \n",
    "            #print(team[0].div.input['class'])\n",
    "            data=standing.find_all('td',{'class':re.compile('^cBlack fArialS8N aCenter')})\n",
    "            #print(data)\n",
    "\n",
    "            #print(\"*******\",list)\n",
    "            \n",
    "            index=0\n",
    "            for x in data:\n",
    "                \n",
    "               # print(x.contents[0])\n",
    "                if(index==0 or index==2 or index==10):\n",
    "                     #print(x.contents[0])\n",
    "                     list.append(int(x.contents[0]))\n",
    "                elif (index==3 or index==4 or index==5):\n",
    "                     list.append(float(x.contents[0]))\n",
    "                else:\n",
    "                    list.append(x.contents[0])\n",
    "                index=index+1\n",
    "            #print(list)\n",
    "            #print(\"****\")\n",
    "            #print (type(list))\n",
    "            insert_list=[]\n",
    "            insert_list.append(list)\n",
    "            gthlstandings_df.loc[len(gthlstandings_df)]=list\n",
    "            test_data=[None, 'Minor Atom', 'A', 'East', '19-20', 1, 'Don Mills Mustangs ', 8, '8-0-0', 16, 1.0, 7.0, 1.5, '5-0-0', '3-0-0', '8-0-0', 'Won 8', 0]\n",
    "            errors = bigquery_client.insert_rows(table, insert_list)  # API Call to insert\n",
    "            \n",
    "           \n",
    "print(gthlstandings_df.to_string())\n",
    "\n",
    "#print (type(gthlstandings_df))\n",
    "#errors = bigquery_client.insert_rows(table, gthlstandings_df)  # API request"
   ]
  },
  {
   "cell_type": "code",
   "execution_count": 14,
   "metadata": {},
   "outputs": [
    {
     "name": "stdout",
     "output_type": "stream",
     "text": [
      "Collecting BeautifulSoup4\n",
      "  Downloading https://files.pythonhosted.org/packages/3b/c8/a55eb6ea11cd7e5ac4bacdf92bac4693b90d3ba79268be16527555e186f0/beautifulsoup4-4.8.1-py3-none-any.whl (101kB)\n",
      "\u001b[K    100% |████████████████████████████████| 102kB 3.7MB/s a 0:00:011\n",
      "\u001b[?25hCollecting soupsieve>=1.2 (from BeautifulSoup4)\n",
      "  Downloading https://files.pythonhosted.org/packages/5d/42/d821581cf568e9b7dfc5b415aa61952b0f5e3dede4f3cbd650e3a1082992/soupsieve-1.9.4-py2.py3-none-any.whl\n",
      "Installing collected packages: soupsieve, BeautifulSoup4\n",
      "Successfully installed BeautifulSoup4-4.8.1 soupsieve-1.9.4\n",
      "Note: you may need to restart the kernel to use updated packages.\n"
     ]
    }
   ],
   "source": [
    "pip install BeautifulSoup4"
   ]
  },
  {
   "cell_type": "code",
   "execution_count": 15,
   "metadata": {},
   "outputs": [
    {
     "name": "stdout",
     "output_type": "stream",
     "text": [
      "Collecting Selenium\n",
      "  Downloading https://files.pythonhosted.org/packages/80/d6/4294f0b4bce4de0abf13e17190289f9d0613b0a44e5dd6a7f5ca98459853/selenium-3.141.0-py2.py3-none-any.whl (904kB)\n",
      "\u001b[K    100% |████████████████████████████████| 911kB 1.5MB/s eta 0:00:01\n",
      "\u001b[?25hCollecting urllib3 (from Selenium)\n",
      "  Downloading https://files.pythonhosted.org/packages/e0/da/55f51ea951e1b7c63a579c09dd7db825bb730ec1fe9c0180fc77bfb31448/urllib3-1.25.6-py2.py3-none-any.whl (125kB)\n",
      "\u001b[K    100% |████████████████████████████████| 133kB 7.5MB/s eta 0:00:01\n",
      "\u001b[?25hInstalling collected packages: urllib3, Selenium\n",
      "Successfully installed Selenium-3.141.0 urllib3-1.25.6\n",
      "Note: you may need to restart the kernel to use updated packages.\n"
     ]
    }
   ],
   "source": [
    "pip install -U Selenium\n"
   ]
  },
  {
   "cell_type": "code",
   "execution_count": null,
   "metadata": {},
   "outputs": [],
   "source": []
  },
  {
   "cell_type": "code",
   "execution_count": null,
   "metadata": {},
   "outputs": [],
   "source": []
  },
  {
   "cell_type": "code",
   "execution_count": null,
   "metadata": {},
   "outputs": [],
   "source": []
  },
  {
   "cell_type": "code",
   "execution_count": null,
   "metadata": {},
   "outputs": [],
   "source": []
  },
  {
   "cell_type": "code",
   "execution_count": null,
   "metadata": {},
   "outputs": [],
   "source": []
  },
  {
   "cell_type": "code",
   "execution_count": null,
   "metadata": {},
   "outputs": [],
   "source": []
  },
  {
   "cell_type": "code",
   "execution_count": null,
   "metadata": {},
   "outputs": [],
   "source": []
  }
 ],
 "metadata": {
  "kernelspec": {
   "display_name": "Python 3",
   "language": "python",
   "name": "python3"
  },
  "language_info": {
   "codemirror_mode": {
    "name": "ipython",
    "version": 3
   },
   "file_extension": ".py",
   "mimetype": "text/x-python",
   "name": "python",
   "nbconvert_exporter": "python",
   "pygments_lexer": "ipython3",
   "version": "3.5.3"
  }
 },
 "nbformat": 4,
 "nbformat_minor": 4
}
